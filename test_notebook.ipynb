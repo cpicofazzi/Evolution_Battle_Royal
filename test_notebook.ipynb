{
 "cells": [
  {
   "cell_type": "code",
   "execution_count": 1,
   "metadata": {},
   "outputs": [],
   "source": [
    "%load_ext autoreload\n",
    "%autoreload 2\n"
   ]
  },
  {
   "cell_type": "code",
   "execution_count": 4,
   "metadata": {},
   "outputs": [
    {
     "name": "stdout",
     "output_type": "stream",
     "text": [
      "900 (0, 0)\n"
     ]
    }
   ],
   "source": [
    "import random\n",
    "\n",
    "from pawns.base_pawn import BaseEntity\n",
    "\n",
    "\n",
    "NUM_ENTITIES = 100\n",
    "\n",
    "all_entities = []\n",
    "\n",
    "for i in range(NUM_ENTITIES):\n",
    "    all_entities.append(BaseEntity())\n",
    "\n",
    "\n",
    "print(random.choice(all_entities))\n"
   ]
  },
  {
   "cell_type": "code",
   "execution_count": 9,
   "metadata": {},
   "outputs": [
    {
     "name": "stdout",
     "output_type": "stream",
     "text": [
      "(0, -1)\n",
      "(0, -1): out of bounds\n",
      "(10, 0)\n",
      "(1, 1)\n",
      "(5, 10)\n",
      "(18, 19)\n",
      "(21, 19)\n",
      "(21, 19): out of bounds\n",
      "[0. 1.]\n"
     ]
    },
    {
     "data": {
      "image/png": "[encoded data removed]",
      "text/plain": [
       "<Figure size 640x480 with 1 Axes>"
      ]
     },
     "metadata": {},
     "output_type": "display_data"
    }
   ],
   "source": [
    "from environment.map import MapEnv\n",
    "\n",
    "MAP_SIZE = (20, 20)\n",
    "ENTITY_COLOR = (255, 50, 50)\n",
    "TILE_SIZE = 10\n",
    "\n",
    "map_env = MapEnv(map_size=MAP_SIZE, tile_size=TILE_SIZE)\n",
    "\n",
    "positions = [(0, -1), (10, 0), (1, 1), (5, 10), (18, 19), (21, 19)]\n",
    "\n",
    "map_env.update_map(positions=positions)\n",
    "map_env.viz_map()\n"
   ]
  }
 ],
 "metadata": {
  "kernelspec": {
   "display_name": "Python 3",
   "language": "python",
   "name": "python3"
  },
  "language_info": {
   "codemirror_mode": {
    "name": "ipython",
    "version": 3
   },
   "file_extension": ".py",
   "mimetype": "text/x-python",
   "name": "python",
   "nbconvert_exporter": "python",
   "pygments_lexer": "ipython3",
   "version": "3.11.8"
  }
 },
 "nbformat": 4,
 "nbformat_minor": 2
}
